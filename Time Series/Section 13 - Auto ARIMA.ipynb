{
 "cells": [
  {
   "cell_type": "markdown",
   "metadata": {},
   "source": [
    "### Packages"
   ]
  },
  {
   "cell_type": "code",
   "execution_count": 1,
   "metadata": {},
   "outputs": [],
   "source": [
    "import numpy as np\n",
    "import pandas as pd\n",
    "import scipy\n",
    "import statsmodels.api as sm\n",
    "import matplotlib.pyplot as plt\n",
    "import seaborn as sns\n",
    "import sklearn\n",
    "from statsmodels.tsa.arima_model import ARIMA\n",
    "from arch import arch_model\n",
    "import seaborn as sns\n",
    "import yfinance\n",
    "import warnings\n",
    "warnings.filterwarnings(\"ignore\")\n",
    "sns.set()"
   ]
  },
  {
   "cell_type": "markdown",
   "metadata": {},
   "source": [
    "### Loading the data"
   ]
  },
  {
   "cell_type": "code",
   "execution_count": 2,
   "metadata": {},
   "outputs": [
    {
     "name": "stdout",
     "output_type": "stream",
     "text": [
      "[*********************100%***********************]  4 of 4 completed\n"
     ]
    }
   ],
   "source": [
    "raw_data = yfinance.download (tickers = \"^GSPC ^FTSE ^N225 ^GDAXI\", start = \"1994-01-07\", end = \"2018-01-29\", \n",
    "                              interval = \"1d\", group_by = 'ticker', auto_adjust = True, treads = True)"
   ]
  },
  {
   "cell_type": "code",
   "execution_count": 3,
   "metadata": {},
   "outputs": [],
   "source": [
    "df_comp = raw_data.copy()"
   ]
  },
  {
   "cell_type": "code",
   "execution_count": 4,
   "metadata": {},
   "outputs": [],
   "source": [
    "df_comp['spx'] = df_comp['^GSPC'].Close[:]\n",
    "df_comp['dax'] = df_comp['^GDAXI'].Close[:]\n",
    "df_comp['ftse'] = df_comp['^FTSE'].Close[:]\n",
    "df_comp['nikkei'] = df_comp['^N225'].Close[:]"
   ]
  },
  {
   "cell_type": "code",
   "execution_count": 5,
   "metadata": {
    "scrolled": true
   },
   "outputs": [],
   "source": [
    "df_comp = df_comp.iloc[1:]\n",
    "del df_comp['^N225']\n",
    "del df_comp['^GSPC']\n",
    "del df_comp['^GDAXI']\n",
    "del df_comp['^FTSE']\n",
    "df_comp=df_comp.asfreq('b')\n",
    "df_comp=df_comp.fillna(method='ffill')"
   ]
  },
  {
   "cell_type": "markdown",
   "metadata": {},
   "source": [
    "### Creating Returns"
   ]
  },
  {
   "cell_type": "code",
   "execution_count": 6,
   "metadata": {},
   "outputs": [],
   "source": [
    "df_comp['ret_spx'] = df_comp.spx.pct_change(1)*100\n",
    "df_comp['ret_ftse'] = df_comp.ftse.pct_change(1)*100\n",
    "df_comp['ret_dax'] = df_comp.dax.pct_change(1)*100\n",
    "df_comp['ret_nikkei'] = df_comp.nikkei.pct_change(1)*100"
   ]
  },
  {
   "cell_type": "markdown",
   "metadata": {},
   "source": [
    "### Splitting the Data"
   ]
  },
  {
   "cell_type": "code",
   "execution_count": 7,
   "metadata": {},
   "outputs": [],
   "source": [
    "size = int(len(df_comp)*0.8)\n",
    "df, df_test = df_comp.iloc[:size], df_comp.iloc[size:]"
   ]
  },
  {
   "cell_type": "markdown",
   "metadata": {},
   "source": [
    "### Fitting a Model"
   ]
  },
  {
   "cell_type": "code",
   "execution_count": 8,
   "metadata": {},
   "outputs": [],
   "source": [
    "from pmdarima.arima import auto_arima"
   ]
  },
  {
   "cell_type": "code",
   "execution_count": 10,
   "metadata": {},
   "outputs": [],
   "source": [
    "model_auto = auto_arima(df.ret_ftse[1:])"
   ]
  },
  {
   "cell_type": "code",
   "execution_count": 12,
   "metadata": {},
   "outputs": [
    {
     "data": {
      "text/html": [
       "<table class=\"simpletable\">\n",
       "<caption>SARIMAX Results</caption>\n",
       "<tr>\n",
       "  <th>Dep. Variable:</th>           <td>y</td>        <th>  No. Observations:  </th>   <td>5019</td>   \n",
       "</tr>\n",
       "<tr>\n",
       "  <th>Model:</th>           <td>SARIMAX(4, 0, 5)</td> <th>  Log Likelihood     </th> <td>-7881.995</td>\n",
       "</tr>\n",
       "<tr>\n",
       "  <th>Date:</th>            <td>Wed, 23 Mar 2022</td> <th>  AIC                </th> <td>15783.990</td>\n",
       "</tr>\n",
       "<tr>\n",
       "  <th>Time:</th>                <td>11:51:12</td>     <th>  BIC                </th> <td>15849.200</td>\n",
       "</tr>\n",
       "<tr>\n",
       "  <th>Sample:</th>                  <td>0</td>        <th>  HQIC               </th> <td>15806.841</td>\n",
       "</tr>\n",
       "<tr>\n",
       "  <th></th>                      <td> - 5019</td>     <th>                     </th>     <td> </td>    \n",
       "</tr>\n",
       "<tr>\n",
       "  <th>Covariance Type:</th>        <td>opg</td>       <th>                     </th>     <td> </td>    \n",
       "</tr>\n",
       "</table>\n",
       "<table class=\"simpletable\">\n",
       "<tr>\n",
       "     <td></td>       <th>coef</th>     <th>std err</th>      <th>z</th>      <th>P>|z|</th>  <th>[0.025</th>    <th>0.975]</th>  \n",
       "</tr>\n",
       "<tr>\n",
       "  <th>ar.L1</th>  <td>    0.0137</td> <td>    0.082</td> <td>    0.168</td> <td> 0.867</td> <td>   -0.146</td> <td>    0.174</td>\n",
       "</tr>\n",
       "<tr>\n",
       "  <th>ar.L2</th>  <td>   -0.6539</td> <td>    0.077</td> <td>   -8.440</td> <td> 0.000</td> <td>   -0.806</td> <td>   -0.502</td>\n",
       "</tr>\n",
       "<tr>\n",
       "  <th>ar.L3</th>  <td>   -0.1617</td> <td>    0.071</td> <td>   -2.271</td> <td> 0.023</td> <td>   -0.301</td> <td>   -0.022</td>\n",
       "</tr>\n",
       "<tr>\n",
       "  <th>ar.L4</th>  <td>    0.2021</td> <td>    0.074</td> <td>    2.717</td> <td> 0.007</td> <td>    0.056</td> <td>    0.348</td>\n",
       "</tr>\n",
       "<tr>\n",
       "  <th>ma.L1</th>  <td>   -0.0373</td> <td>    0.081</td> <td>   -0.460</td> <td> 0.646</td> <td>   -0.196</td> <td>    0.122</td>\n",
       "</tr>\n",
       "<tr>\n",
       "  <th>ma.L2</th>  <td>    0.6061</td> <td>    0.078</td> <td>    7.747</td> <td> 0.000</td> <td>    0.453</td> <td>    0.759</td>\n",
       "</tr>\n",
       "<tr>\n",
       "  <th>ma.L3</th>  <td>    0.0616</td> <td>    0.069</td> <td>    0.899</td> <td> 0.369</td> <td>   -0.073</td> <td>    0.196</td>\n",
       "</tr>\n",
       "<tr>\n",
       "  <th>ma.L4</th>  <td>   -0.1944</td> <td>    0.073</td> <td>   -2.658</td> <td> 0.008</td> <td>   -0.338</td> <td>   -0.051</td>\n",
       "</tr>\n",
       "<tr>\n",
       "  <th>ma.L5</th>  <td>   -0.1051</td> <td>    0.009</td> <td>  -11.064</td> <td> 0.000</td> <td>   -0.124</td> <td>   -0.086</td>\n",
       "</tr>\n",
       "<tr>\n",
       "  <th>sigma2</th> <td>    1.3537</td> <td>    0.015</td> <td>   91.475</td> <td> 0.000</td> <td>    1.325</td> <td>    1.383</td>\n",
       "</tr>\n",
       "</table>\n",
       "<table class=\"simpletable\">\n",
       "<tr>\n",
       "  <th>Ljung-Box (L1) (Q):</th>     <td>0.00</td> <th>  Jarque-Bera (JB):  </th> <td>6371.00</td>\n",
       "</tr>\n",
       "<tr>\n",
       "  <th>Prob(Q):</th>                <td>0.95</td> <th>  Prob(JB):          </th>  <td>0.00</td>  \n",
       "</tr>\n",
       "<tr>\n",
       "  <th>Heteroskedasticity (H):</th> <td>1.99</td> <th>  Skew:              </th>  <td>-0.20</td> \n",
       "</tr>\n",
       "<tr>\n",
       "  <th>Prob(H) (two-sided):</th>    <td>0.00</td> <th>  Kurtosis:          </th>  <td>8.51</td>  \n",
       "</tr>\n",
       "</table><br/><br/>Warnings:<br/>[1] Covariance matrix calculated using the outer product of gradients (complex-step)."
      ],
      "text/plain": [
       "<class 'statsmodels.iolib.summary.Summary'>\n",
       "\"\"\"\n",
       "                               SARIMAX Results                                \n",
       "==============================================================================\n",
       "Dep. Variable:                      y   No. Observations:                 5019\n",
       "Model:               SARIMAX(4, 0, 5)   Log Likelihood               -7881.995\n",
       "Date:                Wed, 23 Mar 2022   AIC                          15783.990\n",
       "Time:                        11:51:12   BIC                          15849.200\n",
       "Sample:                             0   HQIC                         15806.841\n",
       "                               - 5019                                         \n",
       "Covariance Type:                  opg                                         \n",
       "==============================================================================\n",
       "                 coef    std err          z      P>|z|      [0.025      0.975]\n",
       "------------------------------------------------------------------------------\n",
       "ar.L1          0.0137      0.082      0.168      0.867      -0.146       0.174\n",
       "ar.L2         -0.6539      0.077     -8.440      0.000      -0.806      -0.502\n",
       "ar.L3         -0.1617      0.071     -2.271      0.023      -0.301      -0.022\n",
       "ar.L4          0.2021      0.074      2.717      0.007       0.056       0.348\n",
       "ma.L1         -0.0373      0.081     -0.460      0.646      -0.196       0.122\n",
       "ma.L2          0.6061      0.078      7.747      0.000       0.453       0.759\n",
       "ma.L3          0.0616      0.069      0.899      0.369      -0.073       0.196\n",
       "ma.L4         -0.1944      0.073     -2.658      0.008      -0.338      -0.051\n",
       "ma.L5         -0.1051      0.009    -11.064      0.000      -0.124      -0.086\n",
       "sigma2         1.3537      0.015     91.475      0.000       1.325       1.383\n",
       "===================================================================================\n",
       "Ljung-Box (L1) (Q):                   0.00   Jarque-Bera (JB):              6371.00\n",
       "Prob(Q):                              0.95   Prob(JB):                         0.00\n",
       "Heteroskedasticity (H):               1.99   Skew:                            -0.20\n",
       "Prob(H) (two-sided):                  0.00   Kurtosis:                         8.51\n",
       "===================================================================================\n",
       "\n",
       "Warnings:\n",
       "[1] Covariance matrix calculated using the outer product of gradients (complex-step).\n",
       "\"\"\""
      ]
     },
     "execution_count": 12,
     "metadata": {},
     "output_type": "execute_result"
    }
   ],
   "source": [
    "model_auto.summary()"
   ]
  },
  {
   "cell_type": "code",
   "execution_count": null,
   "metadata": {},
   "outputs": [],
   "source": []
  },
  {
   "cell_type": "markdown",
   "metadata": {},
   "source": [
    "### Important Arguments"
   ]
  },
  {
   "cell_type": "code",
   "execution_count": 13,
   "metadata": {
    "scrolled": true
   },
   "outputs": [],
   "source": [
    "# exogenous -> outside factors (e.g other time series)\n",
    "# m -> seasonal cycle length\n",
    "# max_order -> maximum amount of variables to be used in the regression (p + q)\n",
    "# max_p -> maximum AR components\n",
    "# max_q -> maximum MA components\n",
    "# max_d -> maximum Integrations\n",
    "# maxiter -> maximum iterations we're giving the model to converge the coefficients (becomes harder as the order increases)\n",
    "# return_valid_fits -> whether or not the method should validate the results \n",
    "# alpha -> level of significance, default is 5%, which we should be using most of the time\n",
    "# n_jobs -> how many models to fit at a time (-1 indicates \"as many as possible\")\n",
    "# trend -> \"ct\" usually\n",
    "# information_criterion -> 'aic', 'aicc', 'bic', 'hqic', 'oob' \n",
    "#        (Akaike Information Criterion, Corrected Akaike Information Criterion,\n",
    "#        Bayesian Information Criterion, Hannan-Quinn Information Criterion, or\n",
    "#        \"out of bag\"--for validation scoring--respectively)\n",
    "# out_of_smaple_size -> validates the model selection (pass the entire dataset, and set 20% to be the out_of_sample_size)\n",
    "\n",
    "model_auto = auto_arima(df_comp.ret_ftse[1:], exogenous=df_comp[['ret_spx', 'ret_dax', 'ret_nikkei']][1:], m=5, \n",
    "                        max_order = None, max_p=7, max_q=7, max_d=2, max_P=4, max_Q=4, max_D=2, maxiter=50, \n",
    "                        alpha=0.05, n_jobs=-1, trend='ct',\n",
    "                        information_criterion='oob', out_of_sample_size=int(len(df_comp)*0.2))"
   ]
  },
  {
   "cell_type": "code",
   "execution_count": null,
   "metadata": {},
   "outputs": [],
   "source": []
  }
 ],
 "metadata": {
  "kernelspec": {
   "display_name": "Python 3 (ipykernel)",
   "language": "python",
   "name": "python3"
  },
  "language_info": {
   "codemirror_mode": {
    "name": "ipython",
    "version": 3
   },
   "file_extension": ".py",
   "mimetype": "text/x-python",
   "name": "python",
   "nbconvert_exporter": "python",
   "pygments_lexer": "ipython3",
   "version": "3.9.7"
  }
 },
 "nbformat": 4,
 "nbformat_minor": 2
}
